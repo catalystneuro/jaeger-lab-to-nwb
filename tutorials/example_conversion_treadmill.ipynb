{
 "cells": [
  {
   "cell_type": "code",
   "execution_count": 1,
   "metadata": {},
   "outputs": [],
   "source": [
    "%load_ext autoreload\n",
    "%autoreload 2"
   ]
  },
  {
   "cell_type": "markdown",
   "metadata": {},
   "source": [
    "# Jaeger lab - TreadmillConverter\n",
    "This tutorial follows the step-by-step guide for a [NWB Converter](https://github.com/catalystneuro/nwb-conversion-tools/blob/master/documentation/conversion_tools_structure.md#step-by-step-operations)"
   ]
  },
  {
   "cell_type": "code",
   "execution_count": 2,
   "metadata": {},
   "outputs": [],
   "source": [
    "from jaeger_lab_to_nwb import JaegerTreadmillConverter\n",
    "from pynwb import NWBHDF5IO\n",
    "from nwbwidgets import nwb2widget\n",
    "from pathlib import Path\n",
    "import pprint"
   ]
  },
  {
   "cell_type": "markdown",
   "metadata": {},
   "source": [
    "## Step 1 - Converter.get_source_schema()"
   ]
  },
  {
   "cell_type": "code",
   "execution_count": 3,
   "metadata": {},
   "outputs": [
    {
     "name": "stdout",
     "output_type": "stream",
     "text": [
      "{'IntanDataInterface': {'additionalProperties': False,\n",
      "                        'properties': {'dir_ecephys_rhd': {'description': 'path to directory containing ecephys data '\n",
      "                                                                          'in rhd files',\n",
      "                                                           'format': 'directory',\n",
      "                                                           'type': 'string'},\n",
      "                                       'file_electrodes': {'description': 'path to csv file containing electrodes data',\n",
      "                                                           'format': 'file',\n",
      "                                                           'type': 'string'}},\n",
      "                        'required': [],\n",
      "                        'type': 'object'},\n",
      " 'TreadmillDataInterface': {'additionalProperties': False,\n",
      "                            'properties': {'dir_behavior_treadmill': {'description': 'path to directory containing '\n",
      "                                                                                     'behavioral data in csv files',\n",
      "                                                                      'format': 'directory',\n",
      "                                                                      'type': 'string'}},\n",
      "                            'required': [],\n",
      "                            'type': 'object'}}\n"
     ]
    }
   ],
   "source": [
    "# Get source_schema\n",
    "source_schema = JaegerTreadmillConverter.get_source_schema()\n",
    "pprint.pprint(source_schema['properties'], width=120)"
   ]
  },
  {
   "cell_type": "markdown",
   "metadata": {},
   "source": [
    "## Step 2 - Get user-input source_data that complies to the returned full source_schema"
   ]
  },
  {
   "cell_type": "code",
   "execution_count": 4,
   "metadata": {},
   "outputs": [
    {
     "name": "stdout",
     "output_type": "stream",
     "text": [
      "{'IntanDataInterface': {'dir_ecephys_rhd': 'C:\\\\Users\\\\Luiz\\\\Google Drive '\n",
      "                                           '(luiz@taufferconsulting.com)\\\\client_ben\\\\project_jaeger_lab\\\\Behavioral_data_Li',\n",
      "                        'file_electrodes': 'C:\\\\Users\\\\Luiz\\\\Google Drive '\n",
      "                                           '(luiz@taufferconsulting.com)\\\\client_ben\\\\project_jaeger_lab\\\\Behavioral_data_Li\\\\UD09_impedance_1.csv'},\n",
      " 'TreadmillDataInterface': {'dir_behavior_treadmill': 'C:\\\\Users\\\\Luiz\\\\Google Drive '\n",
      "                                                      '(luiz@taufferconsulting.com)\\\\client_ben\\\\project_jaeger_lab\\\\Behavioral_data_Li'}}\n"
     ]
    }
   ],
   "source": [
    "# Source data\n",
    "dir_ecephys_rhd = Path.cwd() / 'Behavioral_data_Li'\n",
    "file_electrodes = Path.cwd() / 'Behavioral_data_Li/UD09_impedance_1.csv'\n",
    "dir_behavior_treadmill = Path.cwd() / 'Behavioral_data_Li'\n",
    "\n",
    "source_data = dict(\n",
    "    TreadmillDataInterface=dict(\n",
    "        dir_behavior_treadmill=str(dir_behavior_treadmill)\n",
    "    ),\n",
    "    IntanDataInterface=dict(\n",
    "        dir_ecephys_rhd=str(dir_ecephys_rhd),\n",
    "        file_electrodes=str(file_electrodes)\n",
    "    )\n",
    ")\n",
    "pprint.pprint(source_data, width=120)"
   ]
  },
  {
   "cell_type": "markdown",
   "metadata": {},
   "source": [
    "## Step 3 - Instantiate Converter"
   ]
  },
  {
   "cell_type": "code",
   "execution_count": 5,
   "metadata": {},
   "outputs": [
    {
     "name": "stdout",
     "output_type": "stream",
     "text": [
      "Data interfaces for this converter:\n",
      "{'IntanDataInterface': <jaeger_lab_to_nwb.treadmillconverter.intandatainterface.IntanDataInterface object at 0x0000027025E05CC8>,\n",
      " 'TreadmillDataInterface': <jaeger_lab_to_nwb.treadmillconverter.treadmilldatainterface.TreadmillDataInterface object at 0x0000027025E05108>}\n"
     ]
    }
   ],
   "source": [
    "# Initialize converter\n",
    "converter = JaegerTreadmillConverter(source_data)\n",
    "\n",
    "print('Data interfaces for this converter:')\n",
    "pprint.pprint(converter.data_interface_objects, width=120)"
   ]
  },
  {
   "cell_type": "markdown",
   "metadata": {},
   "source": [
    "## Step 4 - Converter.get_metadata_schema()"
   ]
  },
  {
   "cell_type": "code",
   "execution_count": 6,
   "metadata": {
    "scrolled": false
   },
   "outputs": [
    {
     "name": "stdout",
     "output_type": "stream",
     "text": [
      "{'$id': 'metadata.schema.json',\n",
      " '$schema': 'http://json-schema.org/draft-07/schema#',\n",
      " 'additionalProperties': False,\n",
      " 'description': 'Schema for the metadata',\n",
      " 'properties': {'Ecephys': {'additionalProperties': False,\n",
      "                            'properties': {'Device': {'additionalProperties': False, 'properties': {'description': {'description': 'Description of the device (e.g., model, firmware version, processing software version, etc.)', 'type': 'string'}, 'manufacturer': {'description': 'the name of the manufacturer of this device', 'type': 'string'}, 'name': {'default': 'Device_ecephys', 'description': 'the name of this device', 'type': 'string'}}, 'required': ['name'], 'tag': 'pynwb.device.Device', 'type': 'object'},\n",
      "                                           'ElectricalSeries': {'additionalProperties': False,\n",
      "                                                                'properties': {'comments': {'default': 'no comments', 'description': 'Human-readable comments about this TimeSeries dataset', 'type': 'string'}, 'conversion': {'default': 1.0, 'description': 'Scalar to multiply each element in data to convert it to the specified unit', 'type': 'number'}, 'description': {'default': 'Raw acquisition traces.', 'description': 'Description of this TimeSeries dataset', 'type': 'string'}, 'name': {'default': 'ElectricalSeries', 'description': 'The name of this TimeSeries dataset', 'type': 'string'}, 'rate': {'default': 20000.0, 'description': 'Sampling rate in Hz', 'type': 'number'}, 'resolution': {'default': -1.0, 'description': 'The smallest meaningful difference (in specified unit) between values in data', 'type': 'number'}, 'starting_time': {'default': 0.0, 'description': 'The timestamp of the first sample', 'type': 'number'}},\n",
      "                                                                'required': ['name'],\n",
      "                                                                'tag': 'pynwb.ecephys.ElectricalSeries',\n",
      "                                                                'type': 'object'}},\n",
      "                            'required': [],\n",
      "                            'type': 'object'},\n",
      "                'NWBFile': {'additionalProperties': False,\n",
      "                            'properties': {'data_collection': {'description': 'Notes about data collection and analysis.', 'type': 'string'},\n",
      "                                           'experimentd_description': {'description': 'general description of the experiment', 'type': 'string'},\n",
      "                                           'experimenter': {'default': ['Li Su'], 'description': 'name of person who performed experiment', 'items': {'title': 'experimenter', 'type': 'string'}, 'type': 'array'},\n",
      "                                           'identifier': {'default': 'ADDME', 'description': 'a unique text identifier for the file', 'type': 'string'},\n",
      "                                           'institution': {'default': 'Emory University', 'description': 'institution(s) where experiment is performed', 'type': 'string'},\n",
      "                                           'lab': {'default': 'Jaeger lab', 'description': 'lab where experiment was performed', 'type': 'string'},\n",
      "                                           'notes': {'description': 'Notes about the experiment.', 'type': 'string'},\n",
      "                                           'pharmacology': {'description': 'Description of drugs used, including how and when they were administered. Anesthesia(s), painkiller(s), etc., plus dosage, concentration, etc.', 'type': 'string'},\n",
      "                                           'protocol': {'description': 'Experimental protocol, if applicable. E.g., include IACUC protocol', 'type': 'string'},\n",
      "                                           'related_publications': {'description': 'Publication information.PMID, DOI, URL, etc. If multiple, concatenate together and describe which is which. such as PMID, DOI, URL, etc', 'type': 'string'},\n",
      "                                           'session_description': {'default': 'ADDME', 'description': 'a description of the session where this data was generated', 'format': 'long', 'type': 'string'},\n",
      "                                           'session_start_time': {'default': '2018-10-25T06:19:56-05:00', 'description': 'the start date and time of the recording session', 'format': 'date-time', 'type': 'string'},\n",
      "                                           'sessiond_id': {'description': 'lab-specific ID for the session', 'type': 'string'},\n",
      "                                           'slices': {'description': 'Description of slices, including information about preparation thickness, orientation, temperature and bath solution', 'type': 'string'},\n",
      "                                           'source_script': {'description': 'Script file used to create this NWB file.', 'type': 'string'},\n",
      "                                           'source_script_file_name': {'description': 'Name of the source_script file', 'type': 'string'},\n",
      "                                           'stimulus_notes': {'description': 'Notes about stimuli, such as how and where presented.', 'type': 'string'},\n",
      "                                           'surgery': {'description': 'Narrative description about surgery/surgeries, including date(s) and who performed surgery.', 'type': 'string'},\n",
      "                                           'virus': {'description': 'Information about virus(es) used in experiments, including virus ID, source, date made, injection location, volume, etc.', 'type': 'string'}},\n",
      "                            'required': ['session_description', 'identifier', 'session_start_time'],\n",
      "                            'tag': 'pynwb.file.NWBFile',\n",
      "                            'type': 'object'},\n",
      "                'Subject': {'additionalProperties': False, 'properties': {'age': {'default': 'ADDME', 'description': 'the age of the subject', 'type': 'string'}, 'date_of_birth': {'default': datetime.datetime(2016, 4, 4, 0, 15), 'description': 'datetime of date of birth. May be supplied instead of age.', 'format': 'date-time', 'type': 'string'}, 'description': {'default': 'ADDME', 'description': 'a description of the subject', 'type': 'string'}, 'genotype': {'default': 'ADDME', 'description': 'the genotype of the subject', 'type': 'string'}, 'sex': {'default': 'ADDME', 'description': 'the sex of the subject', 'type': 'string'}, 'species': {'default': 'ADDME', 'description': 'the species of the subject', 'type': 'string'}, 'subject_id': {'default': 'ADDME', 'description': 'a unique identifier for the subject', 'type': 'string'}, 'weight': {'default': 'ADDME', 'description': 'the weight of the subject', 'type': 'string'}}, 'required': [], 'tag': 'pynwb.file.Subject', 'type': 'object'}},\n",
      " 'required': ['NWBFile'],\n",
      " 'title': 'Metadata',\n",
      " 'type': 'object',\n",
      " 'version': '0.1.0'}\n"
     ]
    }
   ],
   "source": [
    "# Get metadata_schema\n",
    "metadata_schema = converter.get_metadata_schema()\n",
    "pprint.pprint(metadata_schema, width=1000)"
   ]
  },
  {
   "cell_type": "markdown",
   "metadata": {},
   "source": [
    "## Step 5 - Automatically fetches available metadata with Converter.get_metadata()"
   ]
  },
  {
   "cell_type": "code",
   "execution_count": 7,
   "metadata": {},
   "outputs": [
    {
     "name": "stdout",
     "output_type": "stream",
     "text": [
      "{'Behavior': {'TimeSeries_actualperiod': {'description': 'ADDME', 'name': 'ActualPeriod'},\n",
      "              'TimeSeries_beambreak': {'description': 'ADDME', 'name': 'BeamBreak'},\n",
      "              'TimeSeries_cntrx': {'description': 'ADDME', 'name': 'Cntr_X'},\n",
      "              'TimeSeries_cntry': {'description': 'ADDME', 'name': 'Cntr_Y'},\n",
      "              'TimeSeries_encoder': {'description': 'ADDME', 'name': 'Encoder'},\n",
      "              'TimeSeries_iteration': {'description': 'ADDME', 'name': 'Iteration'},\n",
      "              'TimeSeries_nosex': {'description': 'ADDME', 'name': 'Nose_X'},\n",
      "              'TimeSeries_nosey': {'description': 'ADDME', 'name': 'Nose_Y'},\n",
      "              'TimeSeries_speed': {'description': 'ADDME', 'name': 'Speed'},\n",
      "              'TimeSeries_variablespeed': {'description': 'ADDME', 'name': 'VariableSpeed'}},\n",
      " 'Ecephys': {'Device': {'name': 'Device_ecephys'},\n",
      "             'ElectricalSeries': {'conversion': 1.0,\n",
      "                                  'description': 'Raw acquisition traces.',\n",
      "                                  'name': 'ElectricalSeries',\n",
      "                                  'rate': 20000.0,\n",
      "                                  'starting_time': 0.0},\n",
      "             'ElectrodeGroup': [{'description': 'ADDME',\n",
      "                                 'device': 'device_ecephys',\n",
      "                                 'location': 'anterior lateral motor cortex (licking area)',\n",
      "                                 'name': 'ElectrodeGroup_1'},\n",
      "                                {'description': 'ADDME',\n",
      "                                 'device': 'device_ecephys',\n",
      "                                 'location': 'motor cortex (caudal forelimb area)',\n",
      "                                 'name': 'ElectrodeGroup_2'},\n",
      "                                {'description': 'ADDME',\n",
      "                                 'device': 'device_ecephys',\n",
      "                                 'location': 'ventromedial thalamus',\n",
      "                                 'name': 'ElectrodeGroup_3'}]},\n",
      " 'NWBFile': {'experimenter': ['Li Su'],\n",
      "             'identifier': 'ADDME',\n",
      "             'institution': 'Emory University',\n",
      "             'lab': 'Jaeger lab',\n",
      "             'session_description': 'ADDME',\n",
      "             'session_start_time': '2018-10-25T06:19:56-05:00'},\n",
      " 'Subject': {'age': 'ADDME',\n",
      "             'date_of_birth': datetime.datetime(2016, 4, 4, 0, 15),\n",
      "             'description': 'ADDME',\n",
      "             'genotype': 'ADDME',\n",
      "             'sex': 'ADDME',\n",
      "             'species': 'ADDME',\n",
      "             'subject_id': 'ADDME',\n",
      "             'weight': 'ADDME'}}\n"
     ]
    }
   ],
   "source": [
    "# Get metadata from source data\n",
    "metadata = converter.get_metadata()\n",
    "pprint.pprint(metadata, width=120)"
   ]
  },
  {
   "cell_type": "markdown",
   "metadata": {},
   "source": [
    "## Step 6 - Get user-input metadata"
   ]
  },
  {
   "cell_type": "code",
   "execution_count": 8,
   "metadata": {},
   "outputs": [
    {
     "name": "stdout",
     "output_type": "stream",
     "text": [
      "{'Behavior': {'TimeSeries_actualperiod': {'description': 'ADDME', 'name': 'ActualPeriod'},\n",
      "              'TimeSeries_beambreak': {'description': 'ADDME', 'name': 'BeamBreak'},\n",
      "              'TimeSeries_cntrx': {'description': 'ADDME', 'name': 'Cntr_X'},\n",
      "              'TimeSeries_cntry': {'description': 'ADDME', 'name': 'Cntr_Y'},\n",
      "              'TimeSeries_encoder': {'description': 'ADDME', 'name': 'Encoder'},\n",
      "              'TimeSeries_iteration': {'description': 'ADDME', 'name': 'Iteration'},\n",
      "              'TimeSeries_nosex': {'description': 'ADDME', 'name': 'Nose_X'},\n",
      "              'TimeSeries_nosey': {'description': 'ADDME', 'name': 'Nose_Y'},\n",
      "              'TimeSeries_speed': {'description': 'ADDME', 'name': 'Speed'},\n",
      "              'TimeSeries_variablespeed': {'description': 'ADDME', 'name': 'VariableSpeed'}},\n",
      " 'Ecephys': {'Device': {'name': 'Device_ecephys'},\n",
      "             'ElectricalSeries': {'conversion': 1.0,\n",
      "                                  'description': 'Raw acquisition traces.',\n",
      "                                  'name': 'ElectricalSeries',\n",
      "                                  'rate': 20000.0,\n",
      "                                  'starting_time': 0.0},\n",
      "             'ElectrodeGroup': [{'description': 'ADDME',\n",
      "                                 'device': 'device_ecephys',\n",
      "                                 'location': 'anterior lateral motor cortex (licking area)',\n",
      "                                 'name': 'ElectrodeGroup_1'},\n",
      "                                {'description': 'ADDME',\n",
      "                                 'device': 'device_ecephys',\n",
      "                                 'location': 'motor cortex (caudal forelimb area)',\n",
      "                                 'name': 'ElectrodeGroup_2'},\n",
      "                                {'description': 'ADDME',\n",
      "                                 'device': 'device_ecephys',\n",
      "                                 'location': 'ventromedial thalamus',\n",
      "                                 'name': 'ElectrodeGroup_3'}]},\n",
      " 'NWBFile': {'experimenter': ['Li Su'],\n",
      "             'identifier': 'ADDME',\n",
      "             'institution': 'Emory University',\n",
      "             'lab': 'Jaeger lab',\n",
      "             'session_description': 'example conversion',\n",
      "             'session_start_time': '2018-10-25T06:19:56-05:00'},\n",
      " 'Subject': {'age': 'ADDME',\n",
      "             'date_of_birth': datetime.datetime(2016, 4, 4, 0, 15),\n",
      "             'description': 'ADDME',\n",
      "             'genotype': 'ADDME',\n",
      "             'sex': 'ADDME',\n",
      "             'species': 'ADDME',\n",
      "             'subject_id': 'ADDME',\n",
      "             'weight': 'ADDME'}}\n"
     ]
    }
   ],
   "source": [
    "metadata['NWBFile']['session_description'] = 'example conversion'\n",
    "pprint.pprint(metadata, width=120)"
   ]
  },
  {
   "cell_type": "markdown",
   "metadata": {},
   "source": [
    "## Step 7 - Converter.get_conversion_options_schema()"
   ]
  },
  {
   "cell_type": "code",
   "execution_count": 9,
   "metadata": {},
   "outputs": [],
   "source": [
    "# Not used for this converter"
   ]
  },
  {
   "cell_type": "markdown",
   "metadata": {},
   "source": [
    "## Step 8 - Get user-input conversion options"
   ]
  },
  {
   "cell_type": "code",
   "execution_count": 10,
   "metadata": {},
   "outputs": [],
   "source": [
    "# Not used for this converter"
   ]
  },
  {
   "cell_type": "markdown",
   "metadata": {},
   "source": [
    "## Step 9 - Run conversion user filled metadata and conversion_options"
   ]
  },
  {
   "cell_type": "code",
   "execution_count": 11,
   "metadata": {
    "scrolled": false
   },
   "outputs": [
    {
     "name": "stderr",
     "output_type": "stream",
     "text": [
      "c:\\users\\luiz\\documents\\github\\pynwb\\src\\pynwb\\file.py:758: UserWarning: Date is missing timezone information. Updating to local timezone.\n",
      "  warn(\"Date is missing timezone information. Updating to local timezone.\")\n"
     ]
    },
    {
     "name": "stdout",
     "output_type": "stream",
     "text": [
      "Converting ecephys rhd data: 0.0%\n"
     ]
    },
    {
     "name": "stderr",
     "output_type": "stream",
     "text": [
      "c:\\users\\luiz\\anaconda3\\envs\\env_allen\\lib\\site-packages\\hdmf\\build\\objectmapper.py:775: MissingRequiredWarning: attribute 'unit' for 'data' (TimeSeries)\n",
      "  warnings.warn(msg, MissingRequiredWarning)\n"
     ]
    },
    {
     "name": "stdout",
     "output_type": "stream",
     "text": [
      "Converting ecephys rhd data: 20.0%\n",
      "Converting ecephys rhd data: 40.0%\n",
      "Converting ecephys rhd data: 60.0%\n",
      "Converting ecephys rhd data: 80.0%\n",
      "NWB file saved at treadmill_example.nwb\n"
     ]
    }
   ],
   "source": [
    "output_file = 'treadmill_example.nwb'\n",
    "\n",
    "converter.run_conversion(\n",
    "    metadata=metadata, \n",
    "    nwbfile_path=output_file, \n",
    "    save_to_file=True,\n",
    "    conversion_options=None\n",
    ")"
   ]
  },
  {
   "cell_type": "markdown",
   "metadata": {},
   "source": [
    "## Final 1 - Check NWB file"
   ]
  },
  {
   "cell_type": "code",
   "execution_count": 12,
   "metadata": {
    "scrolled": false
   },
   "outputs": [
    {
     "name": "stdout",
     "output_type": "stream",
     "text": [
      "root pynwb.file.NWBFile at 0x2680696864328\n",
      "Fields:\n",
      "  acquisition: {\n",
      "    ActualPeriod <class 'pynwb.base.TimeSeries'>,\n",
      "    BeamBreak <class 'pynwb.base.TimeSeries'>,\n",
      "    Cntr_X <class 'pynwb.base.TimeSeries'>,\n",
      "    Cntr_Y <class 'pynwb.base.TimeSeries'>,\n",
      "    ElectricalSeries <class 'pynwb.ecephys.ElectricalSeries'>,\n",
      "    Encoder <class 'pynwb.base.TimeSeries'>,\n",
      "    Iteration <class 'pynwb.base.TimeSeries'>,\n",
      "    Nose_X <class 'pynwb.base.TimeSeries'>,\n",
      "    Nose_Y <class 'pynwb.base.TimeSeries'>,\n",
      "    Speed <class 'pynwb.base.TimeSeries'>,\n",
      "    VariableSpeed <class 'pynwb.base.TimeSeries'>\n",
      "  }\n",
      "  devices: {\n",
      "    Device_ecephys <class 'pynwb.device.Device'>\n",
      "  }\n",
      "  electrode_groups: {\n",
      "    ElectrodeGroup_1 <class 'pynwb.ecephys.ElectrodeGroup'>,\n",
      "    ElectrodeGroup_2 <class 'pynwb.ecephys.ElectrodeGroup'>,\n",
      "    ElectrodeGroup_3 <class 'pynwb.ecephys.ElectrodeGroup'>\n",
      "  }\n",
      "  electrodes: electrodes <class 'hdmf.common.table.DynamicTable'>\n",
      "  experimenter: ['Li Su']\n",
      "  file_create_date: [datetime.datetime(2020, 12, 3, 16, 20, 22, 353049, tzinfo=tzoffset(None, 3600))]\n",
      "  identifier: ADDME\n",
      "  institution: Emory University\n",
      "  intervals: {\n",
      "    trials <class 'pynwb.epoch.TimeIntervals'>\n",
      "  }\n",
      "  lab: Jaeger lab\n",
      "  session_description: example conversion\n",
      "  session_start_time: 2018-10-25 06:19:56-05:00\n",
      "  subject: subject pynwb.file.Subject at 0x2680705348232\n",
      "Fields:\n",
      "  age: ADDME\n",
      "  date_of_birth: 2016-04-04 00:15:00+02:00\n",
      "  description: ADDME\n",
      "  genotype: ADDME\n",
      "  sex: ADDME\n",
      "  species: ADDME\n",
      "  subject_id: ADDME\n",
      "  weight: ADDME\n",
      "\n",
      "  timestamps_reference_time: 2018-10-25 06:19:56-05:00\n",
      "  trials: trials <class 'pynwb.epoch.TimeIntervals'>\n",
      "\n",
      "\n",
      " ############################################### \n",
      "\n",
      "Trials: \n",
      "\n",
      "trials pynwb.epoch.TimeIntervals at 0x2680706639880\n",
      "Fields:\n",
      "  colnames: ['start_time' 'stop_time' 'fail' 'reward_given' 'total_rewards' 'init_dur'\n",
      " 'light_dur' 'motor_dur' 'post_motor' 'speed' 'speed_mode' 'amplitude'\n",
      " 'period' 'deviation']\n",
      "  columns: (\n",
      "    start_time <class 'hdmf.common.table.VectorData'>,\n",
      "    stop_time <class 'hdmf.common.table.VectorData'>,\n",
      "    fail <class 'hdmf.common.table.VectorData'>,\n",
      "    reward_given <class 'hdmf.common.table.VectorData'>,\n",
      "    total_rewards <class 'hdmf.common.table.VectorData'>,\n",
      "    init_dur <class 'hdmf.common.table.VectorData'>,\n",
      "    light_dur <class 'hdmf.common.table.VectorData'>,\n",
      "    motor_dur <class 'hdmf.common.table.VectorData'>,\n",
      "    post_motor <class 'hdmf.common.table.VectorData'>,\n",
      "    speed <class 'hdmf.common.table.VectorData'>,\n",
      "    speed_mode <class 'hdmf.common.table.VectorData'>,\n",
      "    amplitude <class 'hdmf.common.table.VectorData'>,\n",
      "    period <class 'hdmf.common.table.VectorData'>,\n",
      "    deviation <class 'hdmf.common.table.VectorData'>\n",
      "  )\n",
      "  description: experimental trials\n",
      "  id: id <class 'hdmf.common.table.ElementIdentifiers'>\n",
      "\n"
     ]
    }
   ],
   "source": [
    "# load file\n",
    "with NWBHDF5IO(output_file, 'r') as io:\n",
    "    nwbfile = io.read()\n",
    "    print(nwbfile)\n",
    "    print('\\n ############################################### \\n')\n",
    "    print('Trials: \\n')\n",
    "    print(nwbfile.trials)"
   ]
  },
  {
   "cell_type": "markdown",
   "metadata": {
    "scrolled": false
   },
   "source": [
    "## Final 2 - Check NWB file with widgets"
   ]
  },
  {
   "cell_type": "code",
   "execution_count": 13,
   "metadata": {
    "scrolled": false
   },
   "outputs": [
    {
     "data": {
      "application/vnd.jupyter.widget-view+json": {
       "model_id": "327de085516341d0a8ea1057776a6e5c",
       "version_major": 2,
       "version_minor": 0
      },
      "text/plain": [
       "VBox(children=(HBox(children=(Label(value='session_description:', layout=Layout(max_height='40px', max_width='…"
      ]
     },
     "metadata": {},
     "output_type": "display_data"
    }
   ],
   "source": [
    "output_file = 'treadmill_example.nwb'\n",
    "\n",
    "io = NWBHDF5IO(output_file, 'r')\n",
    "nwbfile = io.read()\n",
    "nwb2widget(nwbfile)"
   ]
  },
  {
   "cell_type": "code",
   "execution_count": null,
   "metadata": {},
   "outputs": [],
   "source": []
  },
  {
   "cell_type": "code",
   "execution_count": null,
   "metadata": {},
   "outputs": [],
   "source": []
  },
  {
   "cell_type": "code",
   "execution_count": 14,
   "metadata": {},
   "outputs": [
    {
     "data": {
      "text/plain": [
       "ElectricalSeries pynwb.ecephys.ElectricalSeries at 0x2680705322888\n",
       "Fields:\n",
       "  comments: no comments\n",
       "  conversion: 1.95e-07\n",
       "  data: <HDF5 dataset \"data\": shape (4860008, 6), type \"<i4\">\n",
       "  description: Raw acquisition traces.\n",
       "  electrodes: electrodes <class 'hdmf.common.table.DynamicTableRegion'>\n",
       "  rate: 20000.0\n",
       "  resolution: -1.0\n",
       "  starting_time: 0.0\n",
       "  starting_time_unit: seconds\n",
       "  unit: volts"
      ]
     },
     "execution_count": 14,
     "metadata": {},
     "output_type": "execute_result"
    }
   ],
   "source": [
    "nwbfile.acquisition['ElectricalSeries']"
   ]
  },
  {
   "cell_type": "code",
   "execution_count": null,
   "metadata": {},
   "outputs": [],
   "source": []
  }
 ],
 "metadata": {
  "kernelspec": {
   "display_name": "Python 3",
   "language": "python",
   "name": "python3"
  },
  "language_info": {
   "codemirror_mode": {
    "name": "ipython",
    "version": 3
   },
   "file_extension": ".py",
   "mimetype": "text/x-python",
   "name": "python",
   "nbconvert_exporter": "python",
   "pygments_lexer": "ipython3",
   "version": "3.7.7"
  }
 },
 "nbformat": 4,
 "nbformat_minor": 4
}
