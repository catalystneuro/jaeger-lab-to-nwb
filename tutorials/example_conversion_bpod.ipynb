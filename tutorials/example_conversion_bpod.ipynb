{
 "cells": [
  {
   "cell_type": "code",
   "execution_count": 1,
   "metadata": {},
   "outputs": [],
   "source": [
    "%load_ext autoreload\n",
    "%autoreload 2"
   ]
  },
  {
   "cell_type": "markdown",
   "metadata": {},
   "source": [
    "# Jaeger lab - Bpod Converter\n",
    "This tutorial follows the step-by-step guide for a [NWB Converter](https://github.com/catalystneuro/nwb-conversion-tools/blob/master/documentation/conversion_tools_structure.md#step-by-step-operations)"
   ]
  },
  {
   "cell_type": "code",
   "execution_count": 2,
   "metadata": {},
   "outputs": [],
   "source": [
    "from jaeger_lab_to_nwb import BpodConverter\n",
    "from pynwb import NWBFile, NWBHDF5IO\n",
    "from nwbwidgets import nwb2widget\n",
    "from pathlib import Path\n",
    "import yaml\n",
    "import pprint"
   ]
  },
  {
   "cell_type": "markdown",
   "metadata": {},
   "source": [
    "## Step 1 - Converter.get_source_schema()"
   ]
  },
  {
   "cell_type": "code",
   "execution_count": 3,
   "metadata": {},
   "outputs": [
    {
     "name": "stdout",
     "output_type": "stream",
     "text": [
      "{'BpodDataInterface': {'additionalProperties': False,\n",
      "                       'properties': {'file_behavior_bpod': {'description': 'path to bpod data file',\n",
      "                                                             'format': 'file',\n",
      "                                                             'type': 'string'}},\n",
      "                       'required': ['file_behavior_bpod'],\n",
      "                       'type': 'object'}}\n"
     ]
    }
   ],
   "source": [
    "# Get source_schema\n",
    "source_schema = BpodConverter.get_source_schema()\n",
    "pprint.pprint(source_schema['properties'], width=120)"
   ]
  },
  {
   "cell_type": "markdown",
   "metadata": {},
   "source": [
    "## Step 2 - Get user-input source_data that complies to the returned full source_schema"
   ]
  },
  {
   "cell_type": "code",
   "execution_count": 4,
   "metadata": {},
   "outputs": [
    {
     "name": "stdout",
     "output_type": "stream",
     "text": [
      "{'BpodDataInterface': {'file_behavior_bpod': 'C:\\\\Users\\\\Luiz\\\\Google Drive '\n",
      "                                             '(luiz@taufferconsulting.com)\\\\client_ben\\\\project_jaeger_lab\\\\Behavioral_Data_Bpod\\\\LRDL_Visual_Cue_Setup2\\\\Session '\n",
      "                                             'Data\\\\GPi12_LRDL_Visual_Cue_Setup2_20200107_161436.mat'}}\n"
     ]
    }
   ],
   "source": [
    "# Source data\n",
    "base_path = Path.cwd() / Path('Behavioral_Data_Bpod/LRDL_Visual_Cue_Setup2/Session Data')\n",
    "file_behavior_bpod = base_path.joinpath('GPi12_LRDL_Visual_Cue_Setup2_20200107_161436.mat')\n",
    "\n",
    "source_data = dict(\n",
    "    BpodDataInterface=dict(\n",
    "        file_behavior_bpod=str(file_behavior_bpod)\n",
    "    )\n",
    ")\n",
    "pprint.pprint(source_data, width=120)"
   ]
  },
  {
   "cell_type": "markdown",
   "metadata": {},
   "source": [
    "## Step 3 - Instantiate Converter"
   ]
  },
  {
   "cell_type": "code",
   "execution_count": 5,
   "metadata": {},
   "outputs": [
    {
     "name": "stdout",
     "output_type": "stream",
     "text": [
      "Data interfaces for this converter:\n",
      "{'BpodDataInterface': <jaeger_lab_to_nwb.bpodconverter.bpoddatainterface.BpodDataInterface object at 0x000002626842D0C8>}\n"
     ]
    }
   ],
   "source": [
    "# Initialize converter\n",
    "converter = BpodConverter(**source_data)\n",
    "\n",
    "print('Data interfaces for this converter:')\n",
    "pprint.pprint(converter.data_interface_objects, width=120)"
   ]
  },
  {
   "cell_type": "markdown",
   "metadata": {},
   "source": [
    "## Step 4 - Converter.get_metadata_schema()"
   ]
  },
  {
   "cell_type": "code",
   "execution_count": 6,
   "metadata": {
    "scrolled": false
   },
   "outputs": [
    {
     "name": "stdout",
     "output_type": "stream",
     "text": [
      "{'$id': 'metadata.schema.json',\n",
      " '$schema': 'http://json-schema.org/draft-07/schema#',\n",
      " 'additionalProperties': False,\n",
      " 'description': 'Schema for the metadata',\n",
      " 'properties': {'NWBFile': {'additionalProperties': False,\n",
      "                            'properties': {'data_collection': {'description': 'Notes about data collection and '\n",
      "                                                                              'analysis.',\n",
      "                                                               'type': 'string'},\n",
      "                                           'experimentd_description': {'description': 'general description of the '\n",
      "                                                                                      'experiment',\n",
      "                                                                       'type': 'string'},\n",
      "                                           'experimenter': {'default': 'Yunmiao Wang',\n",
      "                                                            'description': 'name of person who performed experiment',\n",
      "                                                            'items': {'title': 'experimenter', 'type': 'string'},\n",
      "                                                            'type': 'array'},\n",
      "                                           'identifier': {'default': 'ADDME',\n",
      "                                                          'description': 'a unique text identifier for the file',\n",
      "                                                          'type': 'string'},\n",
      "                                           'institution': {'default': 'Emory University',\n",
      "                                                           'description': 'institution(s) where experiment is '\n",
      "                                                                          'performed',\n",
      "                                                           'type': 'string'},\n",
      "                                           'lab': {'default': 'Jaeger lab',\n",
      "                                                   'description': 'lab where experiment was performed',\n",
      "                                                   'type': 'string'},\n",
      "                                           'notes': {'description': 'Notes about the experiment.', 'type': 'string'},\n",
      "                                           'pharmacology': {'description': 'Description of drugs used, including how '\n",
      "                                                                           'and when they were administered. '\n",
      "                                                                           'Anesthesia(s), painkiller(s), etc., plus '\n",
      "                                                                           'dosage, concentration, etc.',\n",
      "                                                            'type': 'string'},\n",
      "                                           'protocol': {'description': 'Experimental protocol, if applicable. E.g., '\n",
      "                                                                       'include IACUC protocol',\n",
      "                                                        'type': 'string'},\n",
      "                                           'related_publications': {'description': 'Publication information.PMID, DOI, '\n",
      "                                                                                   'URL, etc. If multiple, concatenate '\n",
      "                                                                                   'together and describe which is '\n",
      "                                                                                   'which. such as PMID, DOI, URL, etc',\n",
      "                                                                    'type': 'string'},\n",
      "                                           'session_description': {'default': 'ADDME',\n",
      "                                                                   'description': 'a description of the session where '\n",
      "                                                                                  'this data was generated',\n",
      "                                                                   'format': 'long',\n",
      "                                                                   'type': 'string'},\n",
      "                                           'session_start_time': {'default': datetime.datetime(2020, 1, 7, 16, 19, 43),\n",
      "                                                                  'description': 'the start date and time of the '\n",
      "                                                                                 'recording session',\n",
      "                                                                  'format': 'date-time',\n",
      "                                                                  'type': 'string'},\n",
      "                                           'sessiond_id': {'description': 'lab-specific ID for the session',\n",
      "                                                           'type': 'string'},\n",
      "                                           'slices': {'description': 'Description of slices, including information '\n",
      "                                                                     'about preparation thickness, orientation, '\n",
      "                                                                     'temperature and bath solution',\n",
      "                                                      'type': 'string'},\n",
      "                                           'source_script': {'description': 'Script file used to create this NWB file.',\n",
      "                                                             'type': 'string'},\n",
      "                                           'source_script_file_name': {'description': 'Name of the source_script file',\n",
      "                                                                       'type': 'string'},\n",
      "                                           'stimulus_notes': {'description': 'Notes about stimuli, such as how and '\n",
      "                                                                             'where presented.',\n",
      "                                                              'type': 'string'},\n",
      "                                           'surgery': {'default': 'Date of the surgery: 11/14/2019 AAV injection: VM '\n",
      "                                                                  '(angle = 0 degrees, - AP 1.50, ML 0.90, DV, -4.05*) '\n",
      "                                                                  '- retrograde AAV-EF1a-mCherry-IRES-Cre, 120 nL. GPi '\n",
      "                                                                  '(angle = 8.3 degrees, mm - AP 1.75, ML 1.92, DV '\n",
      "                                                                  '-4.45* ) - AAV2/EF1a- DIO-hChR2(E123T//T159C)-EYFP, '\n",
      "                                                                  '70 nL',\n",
      "                                                       'description': 'Narrative description about surgery/surgeries, '\n",
      "                                                                      'including date(s) and who performed surgery.',\n",
      "                                                       'type': 'string'},\n",
      "                                           'virus': {'description': 'Information about virus(es) used in experiments, '\n",
      "                                                                    'including virus ID, source, date made, injection '\n",
      "                                                                    'location, volume, etc.',\n",
      "                                                     'type': 'string'}},\n",
      "                            'required': ['session_description', 'identifier', 'session_start_time'],\n",
      "                            'tag': 'pynwb.file.NWBFile',\n",
      "                            'type': 'object'},\n",
      "                'Subject': {'additionalProperties': False,\n",
      "                            'properties': {'age': {'description': 'the age of the subject', 'type': 'string'},\n",
      "                                           'date_of_birth': {'default': datetime.datetime(2019, 8, 7, 0, 0),\n",
      "                                                             'description': 'datetime of date of birth. May be '\n",
      "                                                                            'supplied instead of age.',\n",
      "                                                             'format': 'date-time',\n",
      "                                                             'type': 'string'},\n",
      "                                           'description': {'description': 'a description of the subject',\n",
      "                                                           'type': 'string'},\n",
      "                                           'genotype': {'description': 'the genotype of the subject', 'type': 'string'},\n",
      "                                           'sex': {'default': 'female',\n",
      "                                                   'description': 'the sex of the subject',\n",
      "                                                   'type': 'string'},\n",
      "                                           'species': {'default': 'black 6',\n",
      "                                                       'description': 'the species of the subject',\n",
      "                                                       'type': 'string'},\n",
      "                                           'subject_id': {'default': 'GPi12',\n",
      "                                                          'description': 'a unique identifier for the subject',\n",
      "                                                          'type': 'string'},\n",
      "                                           'weight': {'default': '18.8g',\n",
      "                                                      'description': 'the weight of the subject',\n",
      "                                                      'type': 'string'}},\n",
      "                            'required': [],\n",
      "                            'tag': 'pynwb.file.Subject',\n",
      "                            'type': 'object'}},\n",
      " 'required': ['NWBFile'],\n",
      " 'title': 'Metadata',\n",
      " 'type': 'object',\n",
      " 'version': '0.1.0'}\n"
     ]
    }
   ],
   "source": [
    "# Get metadata_schema\n",
    "metadata_schema = converter.get_metadata_schema()\n",
    "pprint.pprint(metadata_schema, width=120)"
   ]
  },
  {
   "cell_type": "markdown",
   "metadata": {},
   "source": [
    "## Step 5 - Automatically fetches available metadata with Converter.get_metadata()"
   ]
  },
  {
   "cell_type": "code",
   "execution_count": 7,
   "metadata": {},
   "outputs": [
    {
     "name": "stdout",
     "output_type": "stream",
     "text": [
      "{'NWBFile': {'experimenter': 'Yunmiao Wang',\n",
      "             'identifier': 'ADDME',\n",
      "             'institution': 'Emory University',\n",
      "             'lab': 'Jaeger lab',\n",
      "             'session_description': 'ADDME',\n",
      "             'session_start_time': datetime.datetime(2020, 1, 7, 16, 19, 43),\n",
      "             'surgery': 'Date of the surgery: 11/14/2019 AAV injection: VM (angle = 0 degrees, - AP 1.50, ML 0.90, DV, '\n",
      "                        '-4.05*) - retrograde AAV-EF1a-mCherry-IRES-Cre, 120 nL. GPi (angle = 8.3 degrees, mm - AP '\n",
      "                        '1.75, ML 1.92, DV -4.45* ) - AAV2/EF1a- DIO-hChR2(E123T//T159C)-EYFP, 70 nL'},\n",
      " 'Subject': {'date_of_birth': datetime.datetime(2019, 8, 7, 0, 0),\n",
      "             'sex': 'female',\n",
      "             'species': 'black 6',\n",
      "             'subject_id': 'GPi12',\n",
      "             'weight': '18.8g'}}\n"
     ]
    }
   ],
   "source": [
    "# Get metadata from source data\n",
    "metadata = converter.get_metadata()\n",
    "pprint.pprint(metadata, width=120)"
   ]
  },
  {
   "cell_type": "markdown",
   "metadata": {},
   "source": [
    "## Step 6 - Get user-input metadata"
   ]
  },
  {
   "cell_type": "code",
   "execution_count": 8,
   "metadata": {},
   "outputs": [
    {
     "name": "stdout",
     "output_type": "stream",
     "text": [
      "{'NWBFile': {'experimenter': 'Yunmiao Wang',\n",
      "             'identifier': 'ADDME',\n",
      "             'institution': 'Emory University',\n",
      "             'lab': 'Jaeger lab',\n",
      "             'session_description': 'example conversion',\n",
      "             'session_start_time': datetime.datetime(2020, 1, 7, 16, 19, 43),\n",
      "             'surgery': 'Date of the surgery: 11/14/2019 AAV injection: VM (angle = 0 degrees, - AP 1.50, ML 0.90, DV, '\n",
      "                        '-4.05*) - retrograde AAV-EF1a-mCherry-IRES-Cre, 120 nL. GPi (angle = 8.3 degrees, mm - AP '\n",
      "                        '1.75, ML 1.92, DV -4.45* ) - AAV2/EF1a- DIO-hChR2(E123T//T159C)-EYFP, 70 nL'},\n",
      " 'Subject': {'date_of_birth': datetime.datetime(2019, 8, 7, 0, 0),\n",
      "             'sex': 'female',\n",
      "             'species': 'black 6',\n",
      "             'subject_id': 'GPi12',\n",
      "             'weight': '18.8g'}}\n"
     ]
    }
   ],
   "source": [
    "metadata['NWBFile']['session_description'] = 'example conversion'\n",
    "pprint.pprint(metadata, width=120)"
   ]
  },
  {
   "cell_type": "markdown",
   "metadata": {},
   "source": [
    "## Step 7 - Converter.get_conversion_options_schema()"
   ]
  },
  {
   "cell_type": "code",
   "execution_count": 9,
   "metadata": {},
   "outputs": [],
   "source": [
    "# Not used for this converter"
   ]
  },
  {
   "cell_type": "markdown",
   "metadata": {},
   "source": [
    "## Step 8 - Get user-input conversion options"
   ]
  },
  {
   "cell_type": "code",
   "execution_count": 10,
   "metadata": {},
   "outputs": [],
   "source": [
    "# Not used for this converter"
   ]
  },
  {
   "cell_type": "markdown",
   "metadata": {},
   "source": [
    "## Step 9 - Run conversion user filled metadata and conversion_options"
   ]
  },
  {
   "cell_type": "code",
   "execution_count": 11,
   "metadata": {},
   "outputs": [
    {
     "name": "stderr",
     "output_type": "stream",
     "text": [
      "c:\\users\\luiz\\anaconda3\\envs\\env_allen\\lib\\site-packages\\pynwb\\file.py:753: UserWarning: Date is missing timezone information. Updating to local timezone.\n",
      "  warn(\"Date is missing timezone information. Updating to local timezone.\")\n"
     ]
    },
    {
     "name": "stdout",
     "output_type": "stream",
     "text": [
      "NWB file saved at outbpod_example.nwb\n"
     ]
    }
   ],
   "source": [
    "output_file = 'outbpod_example.nwb'\n",
    "\n",
    "converter.run_conversion(\n",
    "    metadata=metadata, \n",
    "    nwbfile_path=output_file, \n",
    "    save_to_file=True,\n",
    "    conversion_options=None\n",
    ")"
   ]
  },
  {
   "cell_type": "markdown",
   "metadata": {},
   "source": [
    "## Final 1 - Check NWB file"
   ]
  },
  {
   "cell_type": "code",
   "execution_count": 12,
   "metadata": {
    "scrolled": false
   },
   "outputs": [
    {
     "name": "stdout",
     "output_type": "stream",
     "text": [
      "root pynwb.file.NWBFile at 0x2621334247944\n",
      "Fields:\n",
      "  acquisition: {\n",
      "    Port1In <class 'ndx_events.events.Events'>,\n",
      "    Port1Out <class 'ndx_events.events.Events'>,\n",
      "    Port2In <class 'ndx_events.events.Events'>,\n",
      "    Port2Out <class 'ndx_events.events.Events'>,\n",
      "    Tup <class 'ndx_events.events.Events'>\n",
      "  }\n",
      "  experimenter: ['Yunmiao Wang']\n",
      "  file_create_date: [datetime.datetime(2020, 11, 24, 11, 7, 56, 65364, tzinfo=tzoffset(None, 3600))]\n",
      "  identifier: ADDME\n",
      "  institution: Emory University\n",
      "  intervals: {\n",
      "    trials <class 'pynwb.epoch.TimeIntervals'>\n",
      "  }\n",
      "  lab: Jaeger lab\n",
      "  session_description: example conversion\n",
      "  session_start_time: 2020-01-07 16:19:43+01:00\n",
      "  subject: subject pynwb.file.Subject at 0x2621680882120\n",
      "Fields:\n",
      "  date_of_birth: 2019-08-07 00:00:00+02:00\n",
      "  sex: female\n",
      "  species: black 6\n",
      "  subject_id: GPi12\n",
      "  weight: 18.8g\n",
      "\n",
      "  surgery: Date of the surgery: 11/14/2019 AAV injection: VM (angle = 0 degrees, - AP 1.50, ML 0.90, DV, -4.05*) - retrograde AAV-EF1a-mCherry-IRES-Cre, 120 nL. GPi (angle = 8.3 degrees, mm - AP 1.75, ML 1.92, DV -4.45* ) - AAV2/EF1a- DIO-hChR2(E123T//T159C)-EYFP, 70 nL\n",
      "  timestamps_reference_time: 2020-01-07 16:19:43+01:00\n",
      "  trials: trials <class 'pynwb.epoch.TimeIntervals'>\n",
      "\n",
      "\n",
      " ############################################### \n",
      "\n",
      "Trials: \n",
      "\n",
      "trials pynwb.epoch.TimeIntervals at 0x2621685946824\n",
      "Fields:\n",
      "  colnames: ['start_time' 'stop_time' 'trial_type' 'led_type' 'reaching' 'outcome'\n",
      " 'states' 'AutoRewardPeriod' 'AutoRewardPeriod_dur' 'DelayPeriod'\n",
      " 'DelayPeriod_dur' 'Failure1' 'Failure1_dur' 'Failure2' 'Failure2_dur'\n",
      " 'Failure3' 'Failure3_dur' 'FailureInterval' 'FailureInterval_dur'\n",
      " 'InitialDelay' 'InitialDelay_dur' 'InitialDelayLoop'\n",
      " 'InitialDelayLoop_dur' 'InterTrialInterval' 'InterTrialInterval_dur'\n",
      " 'LEDAutoRewardPeriod' 'LEDAutoRewardPeriod_dur' 'LEDDelayPeriod'\n",
      " 'LEDDelayPeriod_dur' 'LEDLeftPuff' 'LEDLeftPuff_dur' 'LEDResponsePeriod'\n",
      " 'LEDResponsePeriod_dur' 'LEDRightPuff' 'LEDRightPuff_dur' 'LeftPuff'\n",
      " 'LeftPuff_dur' 'LeftReward' 'LeftReward_dur' 'PostLEDAirPuff'\n",
      " 'PostLEDAirPuff_dur' 'PostLEDAutoRewardPeriod'\n",
      " 'PostLEDAutoRewardPeriod_dur' 'PostLEDDelayPeriod'\n",
      " 'PostLEDDelayPeriod_dur' 'PostLEDResponsePeriodLeft'\n",
      " 'PostLEDResponsePeriodLeft_dur' 'PostLEDResponsePeriodRight'\n",
      " 'PostLEDResponsePeriodRight_dur' 'PreFailure1Left' 'PreFailure1Left_dur'\n",
      " 'PreFailure1Right' 'PreFailure1Right_dur' 'PreFailure2' 'PreFailure2_dur'\n",
      " 'PreFailure3' 'PreFailure3_dur' 'ReachingSwitch' 'ReachingSwitch_dur'\n",
      " 'ResponsePeriod' 'ResponsePeriod_dur' 'RewardPeriod' 'RewardPeriod_dur'\n",
      " 'RightPuff' 'RightPuff_dur' 'RightReward' 'RightReward_dur']\n",
      "  columns: (\n",
      "    start_time <class 'hdmf.common.table.VectorData'>,\n",
      "    stop_time <class 'hdmf.common.table.VectorData'>,\n",
      "    trial_type <class 'hdmf.common.table.VectorData'>,\n",
      "    led_type <class 'hdmf.common.table.VectorData'>,\n",
      "    reaching <class 'hdmf.common.table.VectorData'>,\n",
      "    outcome <class 'hdmf.common.table.VectorData'>,\n",
      "    states_index <class 'hdmf.common.table.VectorIndex'>,\n",
      "    states <class 'hdmf.common.table.VectorData'>,\n",
      "    AutoRewardPeriod <class 'hdmf.common.table.VectorData'>,\n",
      "    AutoRewardPeriod_dur <class 'hdmf.common.table.VectorData'>,\n",
      "    DelayPeriod <class 'hdmf.common.table.VectorData'>,\n",
      "    DelayPeriod_dur <class 'hdmf.common.table.VectorData'>,\n",
      "    Failure1 <class 'hdmf.common.table.VectorData'>,\n",
      "    Failure1_dur <class 'hdmf.common.table.VectorData'>,\n",
      "    Failure2 <class 'hdmf.common.table.VectorData'>,\n",
      "    Failure2_dur <class 'hdmf.common.table.VectorData'>,\n",
      "    Failure3 <class 'hdmf.common.table.VectorData'>,\n",
      "    Failure3_dur <class 'hdmf.common.table.VectorData'>,\n",
      "    FailureInterval <class 'hdmf.common.table.VectorData'>,\n",
      "    FailureInterval_dur <class 'hdmf.common.table.VectorData'>,\n",
      "    InitialDelay <class 'hdmf.common.table.VectorData'>,\n",
      "    InitialDelay_dur <class 'hdmf.common.table.VectorData'>,\n",
      "    InitialDelayLoop <class 'hdmf.common.table.VectorData'>,\n",
      "    InitialDelayLoop_dur <class 'hdmf.common.table.VectorData'>,\n",
      "    InterTrialInterval <class 'hdmf.common.table.VectorData'>,\n",
      "    InterTrialInterval_dur <class 'hdmf.common.table.VectorData'>,\n",
      "    LEDAutoRewardPeriod <class 'hdmf.common.table.VectorData'>,\n",
      "    LEDAutoRewardPeriod_dur <class 'hdmf.common.table.VectorData'>,\n",
      "    LEDDelayPeriod <class 'hdmf.common.table.VectorData'>,\n",
      "    LEDDelayPeriod_dur <class 'hdmf.common.table.VectorData'>,\n",
      "    LEDLeftPuff <class 'hdmf.common.table.VectorData'>,\n",
      "    LEDLeftPuff_dur <class 'hdmf.common.table.VectorData'>,\n",
      "    LEDResponsePeriod <class 'hdmf.common.table.VectorData'>,\n",
      "    LEDResponsePeriod_dur <class 'hdmf.common.table.VectorData'>,\n",
      "    LEDRightPuff <class 'hdmf.common.table.VectorData'>,\n",
      "    LEDRightPuff_dur <class 'hdmf.common.table.VectorData'>,\n",
      "    LeftPuff <class 'hdmf.common.table.VectorData'>,\n",
      "    LeftPuff_dur <class 'hdmf.common.table.VectorData'>,\n",
      "    LeftReward <class 'hdmf.common.table.VectorData'>,\n",
      "    LeftReward_dur <class 'hdmf.common.table.VectorData'>,\n",
      "    PostLEDAirPuff <class 'hdmf.common.table.VectorData'>,\n",
      "    PostLEDAirPuff_dur <class 'hdmf.common.table.VectorData'>,\n",
      "    PostLEDAutoRewardPeriod <class 'hdmf.common.table.VectorData'>,\n",
      "    PostLEDAutoRewardPeriod_dur <class 'hdmf.common.table.VectorData'>,\n",
      "    PostLEDDelayPeriod <class 'hdmf.common.table.VectorData'>,\n",
      "    PostLEDDelayPeriod_dur <class 'hdmf.common.table.VectorData'>,\n",
      "    PostLEDResponsePeriodLeft <class 'hdmf.common.table.VectorData'>,\n",
      "    PostLEDResponsePeriodLeft_dur <class 'hdmf.common.table.VectorData'>,\n",
      "    PostLEDResponsePeriodRight <class 'hdmf.common.table.VectorData'>,\n",
      "    PostLEDResponsePeriodRight_dur <class 'hdmf.common.table.VectorData'>,\n",
      "    PreFailure1Left <class 'hdmf.common.table.VectorData'>,\n",
      "    PreFailure1Left_dur <class 'hdmf.common.table.VectorData'>,\n",
      "    PreFailure1Right <class 'hdmf.common.table.VectorData'>,\n",
      "    PreFailure1Right_dur <class 'hdmf.common.table.VectorData'>,\n",
      "    PreFailure2 <class 'hdmf.common.table.VectorData'>,\n",
      "    PreFailure2_dur <class 'hdmf.common.table.VectorData'>,\n",
      "    PreFailure3 <class 'hdmf.common.table.VectorData'>,\n",
      "    PreFailure3_dur <class 'hdmf.common.table.VectorData'>,\n",
      "    ReachingSwitch <class 'hdmf.common.table.VectorData'>,\n",
      "    ReachingSwitch_dur <class 'hdmf.common.table.VectorData'>,\n",
      "    ResponsePeriod <class 'hdmf.common.table.VectorData'>,\n",
      "    ResponsePeriod_dur <class 'hdmf.common.table.VectorData'>,\n",
      "    RewardPeriod <class 'hdmf.common.table.VectorData'>,\n",
      "    RewardPeriod_dur <class 'hdmf.common.table.VectorData'>,\n",
      "    RightPuff <class 'hdmf.common.table.VectorData'>,\n",
      "    RightPuff_dur <class 'hdmf.common.table.VectorData'>,\n",
      "    RightReward <class 'hdmf.common.table.VectorData'>,\n",
      "    RightReward_dur <class 'hdmf.common.table.VectorData'>\n",
      "  )\n",
      "  description: experimental trials\n",
      "  id: id <class 'hdmf.common.table.ElementIdentifiers'>\n",
      "\n"
     ]
    }
   ],
   "source": [
    "# load file\n",
    "# fname = 'outbpod.nwb'\n",
    "fname = 'outbpod_example.nwb'\n",
    "with NWBHDF5IO(fname, 'r') as io:\n",
    "    nwbfile = io.read()\n",
    "    print(nwbfile)\n",
    "    print('\\n ############################################### \\n')\n",
    "    print('Trials: \\n')\n",
    "    print(nwbfile.trials)"
   ]
  },
  {
   "cell_type": "markdown",
   "metadata": {
    "scrolled": false
   },
   "source": [
    "## Final 2 - Check NWB file with widgets"
   ]
  },
  {
   "cell_type": "code",
   "execution_count": 13,
   "metadata": {},
   "outputs": [
    {
     "data": {
      "application/vnd.jupyter.widget-view+json": {
       "model_id": "6b425194fb5c44b98e4fa202cf9d28ce",
       "version_major": 2,
       "version_minor": 0
      },
      "text/plain": [
       "VBox(children=(HBox(children=(Label(value='session_description:', layout=Layout(max_height='40px', max_width='…"
      ]
     },
     "metadata": {},
     "output_type": "display_data"
    }
   ],
   "source": [
    "io = NWBHDF5IO(fname, 'r')\n",
    "nwbfile = io.read()\n",
    "nwb2widget(nwbfile)"
   ]
  }
 ],
 "metadata": {
  "kernelspec": {
   "display_name": "Python 3",
   "language": "python",
   "name": "python3"
  },
  "language_info": {
   "codemirror_mode": {
    "name": "ipython",
    "version": 3
   },
   "file_extension": ".py",
   "mimetype": "text/x-python",
   "name": "python",
   "nbconvert_exporter": "python",
   "pygments_lexer": "ipython3",
   "version": "3.7.7"
  }
 },
 "nbformat": 4,
 "nbformat_minor": 4
}
